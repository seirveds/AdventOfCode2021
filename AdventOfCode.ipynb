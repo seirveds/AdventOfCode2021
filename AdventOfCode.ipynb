{
 "cells": [
  {
   "cell_type": "code",
   "execution_count": 1,
   "id": "fd0064a0",
   "metadata": {},
   "outputs": [],
   "source": [
    "import numpy as np\n",
    "import pandas as pd"
   ]
  },
  {
   "cell_type": "code",
   "execution_count": 2,
   "id": "c6531f70",
   "metadata": {},
   "outputs": [],
   "source": [
    "def read_input(path):\n",
    "    \"\"\" Reads input file from passed path and returns as numpy array. No\n",
    "    preprocessing is done. \"\"\"\n",
    "    with open(path, 'r') as f:\n",
    "        data = np.array([l.strip() for l in f.readlines()])\n",
    "    return data"
   ]
  },
  {
   "cell_type": "markdown",
   "id": "f841471e",
   "metadata": {},
   "source": [
    "### Day 1"
   ]
  },
  {
   "cell_type": "markdown",
   "id": "396e2a90",
   "metadata": {},
   "source": [
    "#### Part 1"
   ]
  },
  {
   "cell_type": "code",
   "execution_count": 4,
   "id": "ceb2e308",
   "metadata": {},
   "outputs": [],
   "source": [
    "day_1_data = read_input(\"day_1/input.txt\").astype(int)"
   ]
  },
  {
   "cell_type": "code",
   "execution_count": 5,
   "id": "ebb058f1",
   "metadata": {},
   "outputs": [],
   "source": [
    "def calc_positive_diff(arr):\n",
    "    \"\"\" Given an array, count how many 'next values' are higher then the previous value. \"\"\"\n",
    "    return sum((arr[1:] - arr[:-1]) > 0)\n",
    "\n",
    "\n",
    "def sum_by_window(arr, window_size=3):\n",
    "    \"\"\" Slides a window_size sized window over an array and calculates the sums of the windows. \"\"\"\n",
    "    return pd.Series(arr).rolling(window=window_size).sum().dropna().values"
   ]
  },
  {
   "cell_type": "code",
   "execution_count": 6,
   "id": "8b8c75fc",
   "metadata": {},
   "outputs": [
    {
     "data": {
      "text/plain": [
       "1692"
      ]
     },
     "execution_count": 6,
     "metadata": {},
     "output_type": "execute_result"
    }
   ],
   "source": [
    "calc_positive_diff(day_1_data)"
   ]
  },
  {
   "cell_type": "markdown",
   "id": "a5936ab1",
   "metadata": {},
   "source": [
    "#### Part 2"
   ]
  },
  {
   "cell_type": "code",
   "execution_count": 7,
   "id": "c6fe4d04",
   "metadata": {},
   "outputs": [
    {
     "data": {
      "text/plain": [
       "1724"
      ]
     },
     "execution_count": 7,
     "metadata": {},
     "output_type": "execute_result"
    }
   ],
   "source": [
    "# Calculate diff using sum of sliding window\n",
    "calc_positive_diff(sum_by_window(day_1_data, window_size=3))"
   ]
  },
  {
   "cell_type": "markdown",
   "id": "1f0fb0c2",
   "metadata": {},
   "source": [
    "### Day 2"
   ]
  },
  {
   "cell_type": "markdown",
   "id": "50933dcf",
   "metadata": {},
   "source": [
    "#### Part 1"
   ]
  },
  {
   "cell_type": "code",
   "execution_count": 8,
   "id": "d6034895",
   "metadata": {},
   "outputs": [],
   "source": [
    "day_2_data = read_input(\"day_2/input.txt\")\n",
    "\n",
    "# Split lines into command and values and converts the values into integers\n",
    "day_2_data = [[l[0], int(l[1])] for l in [line.split() for line in day_2_data]]"
   ]
  },
  {
   "cell_type": "code",
   "execution_count": 9,
   "id": "6798ab3c",
   "metadata": {},
   "outputs": [
    {
     "data": {
      "text/plain": [
       "1250395"
      ]
     },
     "execution_count": 9,
     "metadata": {},
     "output_type": "execute_result"
    }
   ],
   "source": [
    "x_pos = 0\n",
    "y_pos = 0\n",
    "\n",
    "for command, value in day_2_data:\n",
    "    if command.startswith('f'):\n",
    "        x_pos += value\n",
    "    elif command.startswith('d'):\n",
    "        y_pos += value\n",
    "    elif command.startswith('u'):\n",
    "        y_pos -= value\n",
    "        \n",
    "x_pos * y_pos"
   ]
  },
  {
   "cell_type": "markdown",
   "id": "ab3d4225",
   "metadata": {},
   "source": [
    "#### Part 2"
   ]
  },
  {
   "cell_type": "code",
   "execution_count": 10,
   "id": "20eb6e4b",
   "metadata": {},
   "outputs": [
    {
     "data": {
      "text/plain": [
       "1451210346"
      ]
     },
     "execution_count": 10,
     "metadata": {},
     "output_type": "execute_result"
    }
   ],
   "source": [
    "x_pos = 0\n",
    "y_pos = 0\n",
    "aim = 0\n",
    "\n",
    "for command, value in day_2_data:\n",
    "    if command.startswith('f'):\n",
    "        x_pos += value\n",
    "        y_pos += value * aim\n",
    "    elif command.startswith('d'):\n",
    "        aim += value\n",
    "    elif command.startswith('u'):\n",
    "        aim -= value\n",
    "        \n",
    "x_pos * y_pos"
   ]
  },
  {
   "cell_type": "code",
   "execution_count": 11,
   "id": "dbe6bafb",
   "metadata": {},
   "outputs": [
    {
     "data": {
      "text/plain": [
       "1250395"
      ]
     },
     "execution_count": 11,
     "metadata": {},
     "output_type": "execute_result"
    }
   ],
   "source": [
    "# Numpy solution part 1\n",
    "day_2_data = read_input(\"day_2/input.txt\")\n",
    "commands, values = zip(*[line.split() for line in day_2_data])\n",
    "# Turn into arrays for slicing possibilities\n",
    "commands = np.array(commands)\n",
    "values = np.array(values).astype(int)\n",
    "\n",
    "x_pos = values[commands == 'forward'].sum()\n",
    "y_pos = values[commands == 'down'].sum() - values[commands == 'up'].sum()\n",
    "x_pos * y_pos"
   ]
  },
  {
   "cell_type": "markdown",
   "id": "c759a861",
   "metadata": {},
   "source": [
    "### Day 3"
   ]
  },
  {
   "cell_type": "code",
   "execution_count": 24,
   "id": "520420e0",
   "metadata": {},
   "outputs": [],
   "source": [
    "def load_day_3_data():\n",
    "    day_3_data = read_input(\"day_3/input.txt\")\n",
    "\n",
    "    # Turn into numpy array, every bit on its own\n",
    "    day_3_data = np.array([[int(bit) for bit in bytes_] for bytes_ in day_3_data])\n",
    "    \n",
    "    return day_3_data"
   ]
  },
  {
   "cell_type": "markdown",
   "id": "43a21813",
   "metadata": {},
   "source": [
    "#### Part 1"
   ]
  },
  {
   "cell_type": "code",
   "execution_count": 25,
   "id": "5ff28cf6",
   "metadata": {},
   "outputs": [],
   "source": [
    "day_3_data = load_day_3_data()"
   ]
  },
  {
   "cell_type": "code",
   "execution_count": 26,
   "id": "efa2bc1d",
   "metadata": {},
   "outputs": [],
   "source": [
    "# Gamma is most commit bit per 'column'\n",
    "gamma = np.array([np.argmax(np.bincount(day_3_data[:, i])) for i in range(day_3_data.shape[1])])\n",
    "\n",
    "# Epsilon is least common bit per column, so the opposite of the gamma\n",
    "epsilon = 1 - np.array(gamma)"
   ]
  },
  {
   "cell_type": "code",
   "execution_count": 27,
   "id": "563b0d43",
   "metadata": {},
   "outputs": [],
   "source": [
    "def byte_array_to_int(arr):\n",
    "    return int(''.join(arr.astype(str)), base=2)"
   ]
  },
  {
   "cell_type": "code",
   "execution_count": 28,
   "id": "be06dbe8",
   "metadata": {},
   "outputs": [],
   "source": [
    "# Transform binary to number\n",
    "gamma = byte_array_to_int(gamma)\n",
    "epsilon = byte_array_to_int(epsilon)"
   ]
  },
  {
   "cell_type": "code",
   "execution_count": 29,
   "id": "b4c840a3",
   "metadata": {},
   "outputs": [
    {
     "data": {
      "text/plain": [
       "1458194"
      ]
     },
     "execution_count": 29,
     "metadata": {},
     "output_type": "execute_result"
    }
   ],
   "source": [
    "# Answer is gamma times epsilon\n",
    "gamma * epsilon"
   ]
  },
  {
   "cell_type": "markdown",
   "id": "c0b9087a",
   "metadata": {},
   "source": [
    "#### Part 2"
   ]
  },
  {
   "cell_type": "code",
   "execution_count": 30,
   "id": "7f0411e4",
   "metadata": {},
   "outputs": [],
   "source": [
    "day_3_data = load_day_3_data()"
   ]
  },
  {
   "cell_type": "code",
   "execution_count": 31,
   "id": "70c78269",
   "metadata": {},
   "outputs": [],
   "source": [
    "def day_3_part_2(data, filter_by='max'):\n",
    "    assert filter_by in ['min', 'max']\n",
    "    \n",
    "    if filter_by == 'min':\n",
    "        default = 0\n",
    "        min_max_func = np.argmin\n",
    "    else:\n",
    "        default = 1\n",
    "        min_max_func = np.argmax\n",
    "    \n",
    "    for idx in range(data.shape[1]):\n",
    "        count = np.bincount(data[:, idx])\n",
    "        if len(set(count)) > 1 or len(set(data[:, idx])) == 1:\n",
    "            mcv = min_max_func(count)\n",
    "        # Value if column contains the same amount of both values\n",
    "        else:\n",
    "            mcv = default\n",
    "\n",
    "        # Remove rows where value of current index is not the most common value\n",
    "        data = data[data[:, idx] == mcv]\n",
    "        if data.shape[0] <= 1:\n",
    "            break\n",
    "            \n",
    "    return data"
   ]
  },
  {
   "cell_type": "code",
   "execution_count": 34,
   "id": "5a3c2b25",
   "metadata": {},
   "outputs": [],
   "source": [
    "oxygen_rating = byte_array_to_int(day_3_part_2(day_3_data, filter_by='max')[0])\n",
    "co2_rating = byte_array_to_int(day_3_part_2(day_3_data, filter_by='min')[0])"
   ]
  },
  {
   "cell_type": "code",
   "execution_count": 35,
   "id": "f77d7118",
   "metadata": {},
   "outputs": [
    {
     "data": {
      "text/plain": [
       "2829354"
      ]
     },
     "execution_count": 35,
     "metadata": {},
     "output_type": "execute_result"
    }
   ],
   "source": [
    "oxygen_rating * co2_rating"
   ]
  },
  {
   "cell_type": "markdown",
   "id": "2adf3a1e",
   "metadata": {},
   "source": [
    "### Day 4"
   ]
  },
  {
   "cell_type": "markdown",
   "id": "cb8d8321",
   "metadata": {},
   "source": [
    "#### Part 1"
   ]
  },
  {
   "cell_type": "code",
   "execution_count": 141,
   "id": "4ae025c2",
   "metadata": {},
   "outputs": [],
   "source": [
    "with open('day_4/input.txt', 'r') as f:\n",
    "    input_data = f.readlines()\n",
    "    # Split comma separated string of numbers to list and parse all\n",
    "    # string numbers to ints\n",
    "    numbers = [int(i) for i in input_data[0].strip().split(',')]\n",
    "    # The rest of the data are the bingo cards\n",
    "    bingo_cards = [line.strip().split() for line in input_data[2:] if line != '\\n']  # Remove empty lines\n",
    "    \n",
    "    # Using reshape get a 3d array of N 5 by 5 bingo cards\n",
    "    bingo_card_numbers = np.array(bingo_cards).reshape(-1, 5, 5).astype(int)"
   ]
  },
  {
   "cell_type": "code",
   "execution_count": 152,
   "id": "7acd5efe",
   "metadata": {},
   "outputs": [],
   "source": [
    "class BingoCard:\n",
    "    \n",
    "    def __init__(self, values):\n",
    "        self.values = values  # 2D array\n",
    "        self.marked = np.zeros(shape=self.values.shape)  # Keep track of numbers that we marked\n",
    "        self.card_size = self.values.shape[0]  # Assumes square card\n",
    "        self.latest_value = None  # Needed for calculating the final answer\n",
    "        \n",
    "    def mark_number(self, value):\n",
    "        self.latest_value = value\n",
    "        # Mark a 1 on the indexes where we have a hit\n",
    "        if value in self.values:\n",
    "            self.marked[np.where(self.values==value)] = 1\n",
    "            \n",
    "    def check_for_bingo(self):\n",
    "        # If the sum of a row/column is the same as the size of the card we have a bingo\n",
    "        # Diagonals are not counted so this is easy\n",
    "        return self.card_size in self.marked.sum(axis=0) or self.card_size in self.marked.sum(axis=1)\n",
    "    \n",
    "    def calculate_answer(self):\n",
    "        # Sum of unmarked values * latest called value\n",
    "        return self.values[self.marked == 0].sum() * self.latest_value\n",
    "    \n",
    "    def calculate_n_moves_until_win(self, bingo_numbers):\n",
    "        \"\"\" Needed for part 2 \"\"\"\n",
    "        for n, number in enumerate(bingo_numbers):\n",
    "            self.mark_number(number)\n",
    "            if self.check_for_bingo():\n",
    "                return n, self.calculate_answer()"
   ]
  },
  {
   "cell_type": "code",
   "execution_count": 146,
   "id": "6988f871",
   "metadata": {},
   "outputs": [
    {
     "data": {
      "text/plain": [
       "38913"
      ]
     },
     "execution_count": 146,
     "metadata": {},
     "output_type": "execute_result"
    }
   ],
   "source": [
    "bingo_cards = [BingoCard(card) for card in bingo_card_numbers]\n",
    "\n",
    "for number in numbers:\n",
    "    # Fill number on card\n",
    "    # Dont assign to variable as we're updating class instances\n",
    "    [card.mark_number(number) for card in bingo_cards]\n",
    "    \n",
    "    # Check for bingos\n",
    "    bingo_checks = [card.check_for_bingo() for card in bingo_cards]\n",
    "    \n",
    "    # If we have bingo there will be a true in this list, we check this with any\n",
    "    if any(bingo_checks):\n",
    "        # Winning card is the index of True\n",
    "        winning_card = bingo_cards[bingo_checks.index(True)]\n",
    "        break\n",
    "        \n",
    "winning_card.calculate_answer()"
   ]
  },
  {
   "cell_type": "markdown",
   "id": "3a743b99",
   "metadata": {},
   "source": [
    "#### Part 2"
   ]
  },
  {
   "cell_type": "code",
   "execution_count": 148,
   "id": "1dbc37a5",
   "metadata": {},
   "outputs": [],
   "source": [
    "bingo_cards = [BingoCard(card) for card in bingo_card_numbers]\n",
    "\n",
    "# Get list of tuples containing amount of moves until win, and the score of the card\n",
    "moves_til_win = [card.calculate_n_moves_until_win(numbers) for card in bingo_cards]"
   ]
  },
  {
   "cell_type": "code",
   "execution_count": 151,
   "id": "5f70c5de",
   "metadata": {},
   "outputs": [
    {
     "data": {
      "text/plain": [
       "16836"
      ]
     },
     "execution_count": 151,
     "metadata": {},
     "output_type": "execute_result"
    }
   ],
   "source": [
    "# Sorting ascendingly on n moves and taking the 1nd index we have our answer\n",
    "sorted(moves_til_win, key=lambda tup: tup[0])[-1][1]"
   ]
  },
  {
   "cell_type": "markdown",
   "id": "51783477",
   "metadata": {},
   "source": [
    "### Day 5"
   ]
  },
  {
   "cell_type": "markdown",
   "id": "d3353009",
   "metadata": {},
   "source": [
    "#### Part 1"
   ]
  },
  {
   "cell_type": "code",
   "execution_count": 74,
   "id": "4d11c64e",
   "metadata": {},
   "outputs": [],
   "source": [
    "coordinates = read_input('day_5/input.txt')\n",
    "\n",
    "# Coordinates is array of [[x1, y1], [x2, y2]] pairs\n",
    "coordinates = np.array([[l.strip().split(',') for l in line.split('->')] for line in coordinates]).astype(int)\n",
    "\n",
    "# Only keep coordinates where x1 == x2 or y1 == y2\n",
    "hor_ver_coordinates = coordinates[(coordinates[:, 0, 0] == coordinates[:, 1, 0]) |\n",
    "                                  (coordinates[:, 0, 1] == coordinates[:, 1, 1])]"
   ]
  },
  {
   "cell_type": "code",
   "execution_count": 75,
   "id": "8c172406",
   "metadata": {},
   "outputs": [],
   "source": [
    "def generate_empty_map(coordinates):\n",
    "    # Using coordinates calculate max map size\n",
    "    max_x = coordinates[:, :, 0].max()+1\n",
    "    max_y = coordinates[:, :, 1].max()+1\n",
    "    # Initialize empty map with all zeros\n",
    "    return np.zeros(shape=(max_y, max_x))"
   ]
  },
  {
   "cell_type": "code",
   "execution_count": 76,
   "id": "6ede5259",
   "metadata": {},
   "outputs": [],
   "source": [
    "map_ = generate_empty_map(hor_ver_coordinates)"
   ]
  },
  {
   "cell_type": "code",
   "execution_count": 77,
   "id": "e590aa17",
   "metadata": {},
   "outputs": [],
   "source": [
    "for (x1, y1), (x2, y2) in hor_ver_coordinates:\n",
    "    if x1 == x2 or y1 == y2:\n",
    "        # Draw lines in the map by adding one\n",
    "        # Using min and max we prevent slicing from high to low value, numpy\n",
    "        # returns an empty array when we do that\n",
    "        map_[min(y1, y2): max(y1, y2)+1, min(x1, x2): max(x1, x2)+1] += 1"
   ]
  },
  {
   "cell_type": "code",
   "execution_count": 78,
   "id": "5de4a55f",
   "metadata": {},
   "outputs": [
    {
     "data": {
      "text/plain": [
       "5280"
      ]
     },
     "execution_count": 78,
     "metadata": {},
     "output_type": "execute_result"
    }
   ],
   "source": [
    "# By counting all places where the value is higher than one we get our answer\n",
    "len(np.where(map_ > 1)[0])"
   ]
  },
  {
   "cell_type": "markdown",
   "id": "7ec9a8a0",
   "metadata": {},
   "source": [
    "#### Part 2"
   ]
  },
  {
   "cell_type": "code",
   "execution_count": 79,
   "id": "81d0a8ed",
   "metadata": {},
   "outputs": [],
   "source": [
    "map_ = generate_empty_map(coordinates)\n",
    "\n",
    "for (x1, y1), (x2, y2) in coordinates:\n",
    "    # Horizontal/vertical line\n",
    "    if x1 == x2 or y1 == y2:\n",
    "        # Draw lines in the map by adding one\n",
    "        # Using min and max we prevent slicing from high to low value, numpy\n",
    "        # returns an empty array when we do that\n",
    "        map_[min(y1, y2): max(y1, y2)+1, min(x1, x2): max(x1, x2)+1] += 1\n",
    "    # Diagonal line\n",
    "    else:\n",
    "        # Cannot use the min/max trick for both x and y coordinates as this will result\n",
    "        # in a flipped diagonal. We can simply fix this by using a negative stepsize, which\n",
    "        # will result in a reversed range, and therefore no flipped lines\n",
    "        x_stepsize = 1 if x2 > x1 else -1\n",
    "        y_stepsize = 1 if y2 > y1 else -1\n",
    "\n",
    "        # Because we also used to add 1 to the highest x and y, we need to substract\n",
    "        # one from the lowest x and y if we have a reversed range, otherwise the lines\n",
    "        # will be one too short\n",
    "        x2 = x2 - 1 if x2 < x1 else x2 + 1\n",
    "        y2 = y2 - 1 if y2 < y1 else y2 + 1\n",
    "        for x, y in zip(range(x1, x2, x_stepsize), range(y1, y2, y_stepsize)):\n",
    "            map_[y][x] += 1"
   ]
  },
  {
   "cell_type": "code",
   "execution_count": 80,
   "id": "a62815c6",
   "metadata": {},
   "outputs": [
    {
     "data": {
      "text/plain": [
       "16716"
      ]
     },
     "execution_count": 80,
     "metadata": {},
     "output_type": "execute_result"
    }
   ],
   "source": [
    "len(np.where(map_ > 1)[0])"
   ]
  },
  {
   "cell_type": "markdown",
   "id": "aea45dfc",
   "metadata": {},
   "source": [
    "### Day 6"
   ]
  },
  {
   "cell_type": "markdown",
   "id": "1f96c353",
   "metadata": {},
   "source": [
    "#### Part 1"
   ]
  },
  {
   "cell_type": "code",
   "execution_count": 24,
   "id": "2d58c81e",
   "metadata": {},
   "outputs": [],
   "source": [
    "lanternfish_timers = read_input('day_6/input.txt')[0].split(',')\n",
    "lanternfish_timers = np.array(lanternfish_timers).astype(int)"
   ]
  },
  {
   "cell_type": "code",
   "execution_count": 27,
   "id": "2617b63b",
   "metadata": {},
   "outputs": [],
   "source": [
    "from tqdm import tqdm\n",
    "\n",
    "n_days = 80\n",
    "\n",
    "def lanternfish_model(original_population, n_days):\n",
    "    \"\"\" Given an initial population and an amount of days, returns the\n",
    "    amount of lanternfish after n_days days. \"\"\"\n",
    "    original_population = np.array([i for i in original_population])\n",
    "    for day in range(n_days):\n",
    "        # Subtract 1 from every timer\n",
    "        original_population -= 1\n",
    "\n",
    "        # Calculate amount of new lanternfishes by counting the amount of -1 timers\n",
    "        zero_timers = np.where(original_population == -1)[0]\n",
    "\n",
    "        if zero_timers.size > 0:\n",
    "            # Add new lanternfish with timer 8 for every original timer that hits -1\n",
    "            original_population = np.concatenate((original_population, np.full(len(zero_timers), 8)))\n",
    "\n",
    "            # Reset -1 fishes to 6\n",
    "            original_population[zero_timers] = 6\n",
    "    \n",
    "    return original_population.size"
   ]
  },
  {
   "cell_type": "code",
   "execution_count": 29,
   "id": "fafc2372",
   "metadata": {},
   "outputs": [
    {
     "data": {
      "text/plain": [
       "354564"
      ]
     },
     "execution_count": 29,
     "metadata": {},
     "output_type": "execute_result"
    }
   ],
   "source": [
    "lanternfish_model(lanternfish_timers, 80)"
   ]
  },
  {
   "cell_type": "markdown",
   "id": "03090e4d",
   "metadata": {},
   "source": [
    "#### Part 2"
   ]
  },
  {
   "cell_type": "code",
   "execution_count": 43,
   "id": "348e000c",
   "metadata": {},
   "outputs": [
    {
     "data": {
      "text/plain": [
       "1609058859115"
      ]
     },
     "execution_count": 43,
     "metadata": {},
     "output_type": "execute_result"
    }
   ],
   "source": [
    "# Above method grows exponentially so it doesnt work for large amount of days\n",
    "# New method uses a list of counts where the index is the timer of the fishes\n",
    "counts = [list(lanternfish_timers).count(i) for i in range(9)]\n",
    "\n",
    "for _ in range(256):\n",
    "    # Shift all items in count list to the left, the first element becomes\n",
    "    # the last element (fishes with timer 8)\n",
    "    counts = counts[1:] + [counts[0]]\n",
    "    # Because the original timer 0 fishes dont die, we have to\n",
    "    # add their count to index 6, because that is their timer after\n",
    "    # multiplying\n",
    "    counts[6] += counts[-1]\n",
    "\n",
    "sum(counts)\n"
   ]
  },
  {
   "cell_type": "markdown",
   "id": "f17fbd5f",
   "metadata": {},
   "source": [
    "### Day 7"
   ]
  },
  {
   "cell_type": "markdown",
   "id": "209c4389",
   "metadata": {},
   "source": [
    "#### Part 1"
   ]
  },
  {
   "cell_type": "code",
   "execution_count": 73,
   "id": "c1d41642",
   "metadata": {},
   "outputs": [],
   "source": [
    "crab_positions = read_input(\"day_7/input.txt\")[0].split(',')\n",
    "crab_positions = np.array(crab_positions).astype(int)"
   ]
  },
  {
   "cell_type": "code",
   "execution_count": 74,
   "id": "50dca549",
   "metadata": {},
   "outputs": [],
   "source": [
    "def calculate_constant_fuel_cost(crab_pos, target):\n",
    "    return sum(abs(crab_positions - target))"
   ]
  },
  {
   "cell_type": "code",
   "execution_count": 75,
   "id": "b165c985",
   "metadata": {},
   "outputs": [
    {
     "data": {
      "text/plain": [
       "336120"
      ]
     },
     "execution_count": 75,
     "metadata": {},
     "output_type": "execute_result"
    }
   ],
   "source": [
    "# Brute force as the data is not THAT big\n",
    "costs = [(target, calculate_constant_fuel_cost(crab_positions, target)) for target in range(max(crab_positions))]\n",
    "sorted(costs, key=lambda tup: tup[1])[0][1]"
   ]
  },
  {
   "cell_type": "markdown",
   "id": "bbe4babf",
   "metadata": {},
   "source": [
    "#### Part 2"
   ]
  },
  {
   "cell_type": "code",
   "execution_count": 85,
   "id": "623c1b7e",
   "metadata": {},
   "outputs": [],
   "source": [
    "\n",
    "def calculate_linear_fuel_cost(crab_pos, target):\n",
    "    \"\"\" Uses triangle numbers to calculate the costs \"\"\"\n",
    "    return sum((abs(crab_positions - target) * (abs(crab_positions - target) + 1)) / 2)\n"
   ]
  },
  {
   "cell_type": "code",
   "execution_count": 87,
   "id": "4f17d609",
   "metadata": {},
   "outputs": [
    {
     "data": {
      "text/plain": [
       "96864235.0"
      ]
     },
     "execution_count": 87,
     "metadata": {},
     "output_type": "execute_result"
    }
   ],
   "source": [
    "# Brute force still works fast enough\n",
    "costs = [(target, calculate_linear_fuel_cost(crab_positions, target)) for target in range(max(crab_positions))]\n",
    "sorted(costs, key=lambda tup: tup[1])[0][1]"
   ]
  },
  {
   "cell_type": "markdown",
   "id": "c9b08eba",
   "metadata": {},
   "source": [
    "### Day 8"
   ]
  },
  {
   "cell_type": "markdown",
   "id": "2d3accd4",
   "metadata": {},
   "source": [
    "#### Part 1"
   ]
  },
  {
   "cell_type": "code",
   "execution_count": 107,
   "id": "43d9856a",
   "metadata": {},
   "outputs": [],
   "source": [
    "signals = read_input(\"day_8/input.txt\")\n",
    "signals = [line.split('|') for line in signals]"
   ]
  },
  {
   "cell_type": "code",
   "execution_count": 108,
   "id": "48a2e310",
   "metadata": {},
   "outputs": [
    {
     "data": {
      "text/plain": [
       "488"
      ]
     },
     "execution_count": 108,
     "metadata": {},
     "output_type": "execute_result"
    }
   ],
   "source": [
    "outputs = [s[1] for s in signals]\n",
    "\n",
    "# Simply count the amount a token of length 2/3/4/7 occurs\n",
    "sum([len(s) in [2, 3, 4, 7] for s in ' '.join(outputs).split(' ')])"
   ]
  },
  {
   "cell_type": "markdown",
   "id": "e3a33a1f",
   "metadata": {},
   "source": [
    "#### Part 2"
   ]
  },
  {
   "cell_type": "code",
   "execution_count": 111,
   "id": "cd644ef6",
   "metadata": {},
   "outputs": [],
   "source": [
    "signals = [''.join(s) for s in signals]"
   ]
  },
  {
   "cell_type": "markdown",
   "id": "8e2603f2",
   "metadata": {},
   "source": [
    "Logic from https://imgur.com/a/LIS2zZr\n",
    "\n",
    "- len(2) == 1\n",
    "- len(4) == 4\n",
    "- len(3) == 7\n",
    "- len(7) == 8\n",
    "- len(5) == [2, 3, 5]\n",
    "    - contains(7) == 3\n",
    "    - len(insersection(4) == 3) == 5\n",
    "    - else 2\n",
    "- len(6) == [0, 6, 9]\n",
    "    - contains(4) == 9\n",
    "    - contains(7) == 0\n",
    "    - else 6"
   ]
  },
  {
   "cell_type": "code",
   "execution_count": 182,
   "id": "531114cc",
   "metadata": {},
   "outputs": [],
   "source": [
    "def token_to_charset(token):\n",
    "    return set([c for c in token])\n",
    "\n",
    "def charset_by_length(line, length):\n",
    "    \"\"\" Used for getting set of the characters in codes for 1, 4, 7, and 8 \"\"\"\n",
    "    return set([[c for c in code] for code in line if len(code) == length][0])\n",
    "\n",
    "def decode_line(line):\n",
    "    # Dictionary foor looking up a number by length (for the numbers 1, 4, 7, 8)\n",
    "    len_dict = {2: 1, 3: 7, 4: 4, 7: 8}\n",
    "\n",
    "    # Dictionary with sets of characters for known numbers 1, 4, 7, and 8, using the\n",
    "    # keys and values from len_dict\n",
    "    char_dict = {k: charset_by_length(line, l) for l, k in len_dict.items()}\n",
    "\n",
    "    decoded_tokens = []\n",
    "\n",
    "    # Decoding using a for loop\n",
    "    for token in line:\n",
    "        charset = token_to_charset(token)\n",
    "        # Simple lookup by length\n",
    "        if len(charset) in [2, 3, 4, 7]:\n",
    "            decoded_tokens.append(len_dict[len(charset)])\n",
    "        # Length of 5 means 2, 3 or 5\n",
    "        elif len(charset) == 5:\n",
    "            # If the token contains all characters used by 7\n",
    "            # the token is a three\n",
    "            if char_dict[7].issubset(charset):\n",
    "                decoded_tokens.append(3)\n",
    "            # If the intersection of the characters is of size\n",
    "            # 3 the token is a 5\n",
    "            elif len(char_dict[4].intersection(charset)) == 3:\n",
    "                decoded_tokens.append(5)\n",
    "            # Only possible value is a 2\n",
    "            else:\n",
    "                decoded_tokens.append(2)\n",
    "        # Length of 6 means 9, 0, or 6\n",
    "        elif len(charset) == 6:\n",
    "            # If the token contains all characters used by 4, the\n",
    "            # token is a nine\n",
    "            if char_dict[4].issubset(charset):\n",
    "                decoded_tokens.append(9)\n",
    "            # Same trick as above for the characters of 7, the token\n",
    "            # is a 0\n",
    "            elif char_dict[7].issubset(charset):\n",
    "                decoded_tokens.append(0)\n",
    "            # Final option a 6\n",
    "            else:\n",
    "                decoded_tokens.append(6)\n",
    "\n",
    "    # Only return the final 4 values as integer, the rest is not needed for solution\n",
    "    return int(''.join([str(i) for i in decoded_tokens[-4:]]))"
   ]
  },
  {
   "cell_type": "code",
   "execution_count": 184,
   "id": "edafa8e7",
   "metadata": {},
   "outputs": [
    {
     "data": {
      "text/plain": [
       "1040429"
      ]
     },
     "execution_count": 184,
     "metadata": {},
     "output_type": "execute_result"
    }
   ],
   "source": [
    "sum([decode_line(line.split()) for line in signals])"
   ]
  },
  {
   "cell_type": "code",
   "execution_count": null,
   "id": "376c8393",
   "metadata": {},
   "outputs": [],
   "source": []
  }
 ],
 "metadata": {
  "kernelspec": {
   "display_name": "Python 3",
   "language": "python",
   "name": "python3"
  },
  "language_info": {
   "codemirror_mode": {
    "name": "ipython",
    "version": 3
   },
   "file_extension": ".py",
   "mimetype": "text/x-python",
   "name": "python",
   "nbconvert_exporter": "python",
   "pygments_lexer": "ipython3",
   "version": "3.6.5"
  }
 },
 "nbformat": 4,
 "nbformat_minor": 5
}
