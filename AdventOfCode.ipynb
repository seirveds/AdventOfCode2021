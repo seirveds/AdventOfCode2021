{
 "cells": [
  {
   "cell_type": "code",
   "execution_count": 1,
   "metadata": {},
   "outputs": [],
   "source": [
    "import numpy as np\n",
    "import pandas as pd"
   ]
  },
  {
   "cell_type": "code",
   "execution_count": 2,
   "metadata": {},
   "outputs": [],
   "source": [
    "def read_input(path):\n",
    "    \"\"\" Reads input file from passed path and returns as numpy array. No\n",
    "    preprocessing is done. \"\"\"\n",
    "    with open(path, 'r') as f:\n",
    "        data = np.array([l.strip() for l in f.readlines()])\n",
    "    return data"
   ]
  },
  {
   "cell_type": "markdown",
   "metadata": {},
   "source": [
    "### Day 1"
   ]
  },
  {
   "cell_type": "markdown",
   "metadata": {},
   "source": [
    "#### Part 1"
   ]
  },
  {
   "cell_type": "code",
   "execution_count": 3,
   "metadata": {},
   "outputs": [],
   "source": [
    "day_1_data = read_input(\"day_1/input.txt\").astype(int)"
   ]
  },
  {
   "cell_type": "code",
   "execution_count": 4,
   "metadata": {},
   "outputs": [],
   "source": [
    "def calc_positive_diff(arr):\n",
    "    \"\"\" Given an array, count how many 'next values' are higher then the previous value. \"\"\"\n",
    "    return sum((arr[1:] - arr[:-1]) > 0)\n",
    "\n",
    "\n",
    "def sum_by_window(arr, window_size=3):\n",
    "    \"\"\" Slides a window_size sized window over an array and calculates the sums of the windows. \"\"\"\n",
    "    return pd.Series(arr).rolling(window=window_size).sum().dropna().values"
   ]
  },
  {
   "cell_type": "code",
   "execution_count": 5,
   "metadata": {},
   "outputs": [
    {
     "data": {
      "text/plain": [
       "1692"
      ]
     },
     "execution_count": 5,
     "metadata": {},
     "output_type": "execute_result"
    }
   ],
   "source": [
    "calc_positive_diff(day_1_data)"
   ]
  },
  {
   "cell_type": "markdown",
   "metadata": {},
   "source": [
    "#### Part 2"
   ]
  },
  {
   "cell_type": "code",
   "execution_count": 6,
   "metadata": {},
   "outputs": [
    {
     "data": {
      "text/plain": [
       "1724"
      ]
     },
     "execution_count": 6,
     "metadata": {},
     "output_type": "execute_result"
    }
   ],
   "source": [
    "# Calculate diff using sum of sliding window\n",
    "calc_positive_diff(sum_by_window(day_1_data, window_size=3))"
   ]
  },
  {
   "cell_type": "markdown",
   "metadata": {},
   "source": [
    "### Day 2"
   ]
  },
  {
   "cell_type": "markdown",
   "metadata": {},
   "source": [
    "#### Part 1"
   ]
  },
  {
   "cell_type": "code",
   "execution_count": 18,
   "metadata": {},
   "outputs": [],
   "source": [
    "day_2_data = read_input(\"day_2/input.txt\")\n",
    "\n",
    "# Split lines into command and values and converts the values into integers\n",
    "day_2_data = [[l[0], int(l[1])] for l in [line.split() for line in day_2_data]]"
   ]
  },
  {
   "cell_type": "code",
   "execution_count": 21,
   "metadata": {},
   "outputs": [
    {
     "data": {
      "text/plain": [
       "1250395"
      ]
     },
     "execution_count": 21,
     "metadata": {},
     "output_type": "execute_result"
    }
   ],
   "source": [
    "x_pos = 0\n",
    "y_pos = 0\n",
    "\n",
    "for command, value in day_2_data:\n",
    "    if command.startswith('f'):\n",
    "        x_pos += value\n",
    "    elif command.startswith('d'):\n",
    "        y_pos += value\n",
    "    elif command.startswith('u'):\n",
    "        y_pos -= value\n",
    "        \n",
    "x_pos * y_pos"
   ]
  },
  {
   "cell_type": "markdown",
   "metadata": {},
   "source": [
    "#### Part 2"
   ]
  },
  {
   "cell_type": "code",
   "execution_count": 22,
   "metadata": {},
   "outputs": [
    {
     "data": {
      "text/plain": [
       "1451210346"
      ]
     },
     "execution_count": 22,
     "metadata": {},
     "output_type": "execute_result"
    }
   ],
   "source": [
    "x_pos = 0\n",
    "y_pos = 0\n",
    "aim = 0\n",
    "\n",
    "for command, value in day_2_data:\n",
    "    if command.startswith('f'):\n",
    "        x_pos += value\n",
    "        y_pos += value * aim\n",
    "    elif command.startswith('d'):\n",
    "        aim += value\n",
    "    elif command.startswith('u'):\n",
    "        aim -= value\n",
    "        \n",
    "x_pos * y_pos"
   ]
  },
  {
   "cell_type": "code",
   "execution_count": 23,
   "metadata": {},
   "outputs": [
    {
     "data": {
      "text/plain": [
       "1250395"
      ]
     },
     "execution_count": 23,
     "metadata": {},
     "output_type": "execute_result"
    }
   ],
   "source": [
    "# Numpy solution part 1\n",
    "day_2_data = read_input(\"day_2/input.txt\")\n",
    "commands, values = zip(*[line.split() for line in day_2_data])\n",
    "# Turn into arrays for slicing possibilities\n",
    "commands = np.array(commands)\n",
    "values = np.array(values).astype(int)\n",
    "\n",
    "x_pos = values[commands == 'forward'].sum()\n",
    "y_pos = values[commands == 'down'].sum() - values[commands == 'up'].sum()\n",
    "x_pos * y_pos"
   ]
  },
  {
   "cell_type": "markdown",
   "metadata": {},
   "source": [
    "### Day 3"
   ]
  },
  {
   "cell_type": "code",
   "execution_count": 118,
   "metadata": {},
   "outputs": [],
   "source": [
    "def load_day_3_data():\n",
    "    day_3_data = read_input(\"day_3/input.txt\")\n",
    "    day_3_data = [\n",
    "        \"00100\",\n",
    "        \"11110\",\n",
    "        \"10110\",\n",
    "        \"10111\",\n",
    "        \"10101\",\n",
    "        \"01111\",\n",
    "        \"00111\",\n",
    "        \"11100\",\n",
    "        \"10000\",\n",
    "        \"11001\",\n",
    "        \"00010\",\n",
    "        \"01010\"\n",
    "    ]\n",
    "\n",
    "    # Turn into numpy array, every bit on its own\n",
    "    day_3_data = np.array([[int(bit) for bit in bytes_] for bytes_ in day_3_data])\n",
    "    \n",
    "    return day_3_data"
   ]
  },
  {
   "cell_type": "markdown",
   "metadata": {},
   "source": [
    "#### Part 1"
   ]
  },
  {
   "cell_type": "code",
   "execution_count": 107,
   "metadata": {},
   "outputs": [],
   "source": [
    "day_3_data = load_day_3_data()"
   ]
  },
  {
   "cell_type": "code",
   "execution_count": 108,
   "metadata": {},
   "outputs": [],
   "source": [
    "# Gamma is most commit bit per 'column'\n",
    "gamma = np.array([np.argmax(np.bincount(day_3_data[:, i])) for i in range(day_3_data.shape[1])])\n",
    "\n",
    "# Epsilon is least common bit per column, so the opposite of the gamma\n",
    "epsilon = 1 - np.array(gamma)"
   ]
  },
  {
   "cell_type": "code",
   "execution_count": 109,
   "metadata": {},
   "outputs": [],
   "source": [
    "def byte_array_to_int(arr):\n",
    "    return int(''.join(arr.astype(str)), base=2)"
   ]
  },
  {
   "cell_type": "code",
   "execution_count": 110,
   "metadata": {},
   "outputs": [],
   "source": [
    "# Transform binary to number\n",
    "gamma = byte_array_to_int(gamma)\n",
    "epsilon = byte_array_to_int(epsilon)"
   ]
  },
  {
   "cell_type": "code",
   "execution_count": 111,
   "metadata": {},
   "outputs": [
    {
     "data": {
      "text/plain": [
       "1458194"
      ]
     },
     "execution_count": 111,
     "metadata": {},
     "output_type": "execute_result"
    }
   ],
   "source": [
    "# Answer is gamma times epsilon\n",
    "gamma * epsilon"
   ]
  },
  {
   "cell_type": "markdown",
   "metadata": {},
   "source": [
    "#### Part 2"
   ]
  },
  {
   "cell_type": "code",
   "execution_count": 144,
   "metadata": {},
   "outputs": [],
   "source": [
    "day_3_data = load_day_3_data()"
   ]
  },
  {
   "cell_type": "code",
   "execution_count": 143,
   "metadata": {},
   "outputs": [],
   "source": [
    "def day_3_part_2(data, filter_by='max'):\n",
    "    assert filter_by in ['min', 'max']\n",
    "    \n",
    "    if filter_by == 'min':\n",
    "        default = 0\n",
    "        min_max_func = argmin\n",
    "    else:\n",
    "        default = 1\n",
    "        min_max_func = argmax\n",
    "    \n",
    "    for idx in range(data.shape[1]):\n",
    "        count = np.bincount(data[:, idx])\n",
    "        if len(set(count)) > 1 or len(set(data[:, idx])) == 1:\n",
    "            mcv = np.min_max_func(count)\n",
    "        # Value if column contains the same amount of both values\n",
    "        else:\n",
    "            mcv = default\n",
    "\n",
    "        # Remove rows where value of current index is not the most common value\n",
    "        data = data[data[:, idx] == mcv]\n",
    "        if data.shape[0] <= 1:\n",
    "            break\n",
    "            \n",
    "    return data\n",
    "    \n"
   ]
  },
  {
   "cell_type": "code",
   "execution_count": null,
   "metadata": {},
   "outputs": [],
   "source": [
    "oxygen_rating = byte_array_to_int(day_3_part_2(day_3_data)[0])\n",
    "co2_rating = byte_array_to_int(day_3_part_2(day_3_data)[0])"
   ]
  },
  {
   "cell_type": "code",
   "execution_count": 136,
   "metadata": {},
   "outputs": [
    {
     "data": {
      "text/plain": [
       "16"
      ]
     },
     "execution_count": 136,
     "metadata": {},
     "output_type": "execute_result"
    }
   ],
   "source": []
  },
  {
   "cell_type": "code",
   "execution_count": 146,
   "metadata": {},
   "outputs": [
    {
     "name": "stdout",
     "output_type": "stream",
     "text": [
      "0\n",
      "[5 7] 0\n",
      "(12, 5)\n",
      "[[0 0 1 0 0]\n",
      " [1 1 1 1 0]\n",
      " [1 0 1 1 0]\n",
      " [1 0 1 1 1]\n",
      " [1 0 1 0 1]\n",
      " [0 1 1 1 1]\n",
      " [0 0 1 1 1]\n",
      " [1 1 1 0 0]\n",
      " [1 0 0 0 0]\n",
      " [1 1 0 0 1]\n",
      " [0 0 0 1 0]\n",
      " [0 1 0 1 0]]\n",
      "1\n",
      "[3 2] 1\n",
      "(5, 5)\n",
      "[[0 0 1 0 0]\n",
      " [0 1 1 1 1]\n",
      " [0 0 1 1 1]\n",
      " [0 0 0 1 0]\n",
      " [0 1 0 1 0]]\n",
      "2\n",
      "[1 1] 0\n",
      "(2, 5)\n",
      "[[0 1 1 1 1]\n",
      " [0 1 0 1 0]]\n"
     ]
    },
    {
     "data": {
      "text/plain": [
       "array([[0, 1, 0, 1, 0]])"
      ]
     },
     "execution_count": 146,
     "metadata": {},
     "output_type": "execute_result"
    }
   ],
   "source": []
  },
  {
   "cell_type": "code",
   "execution_count": null,
   "metadata": {},
   "outputs": [],
   "source": []
  }
 ],
 "metadata": {
  "kernelspec": {
   "display_name": "Python 3",
   "language": "python",
   "name": "python3"
  },
  "language_info": {
   "codemirror_mode": {
    "name": "ipython",
    "version": 3
   },
   "file_extension": ".py",
   "mimetype": "text/x-python",
   "name": "python",
   "nbconvert_exporter": "python",
   "pygments_lexer": "ipython3",
   "version": "3.6.5"
  }
 },
 "nbformat": 4,
 "nbformat_minor": 5
}
