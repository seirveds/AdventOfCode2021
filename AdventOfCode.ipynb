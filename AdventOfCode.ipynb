{
 "cells": [
  {
   "cell_type": "code",
   "execution_count": 3,
   "metadata": {},
   "outputs": [],
   "source": [
    "import numpy as np\n",
    "import pandas as pd"
   ]
  },
  {
   "cell_type": "code",
   "execution_count": 4,
   "metadata": {},
   "outputs": [],
   "source": [
    "def read_input(path):\n",
    "    \"\"\" Reads input file from passed path and returns as numpy array. No\n",
    "    preprocessing is done. \"\"\"\n",
    "    with open(path, 'r') as f:\n",
    "        data = np.array([l.strip() for l in f.readlines()])\n",
    "    return data"
   ]
  },
  {
   "cell_type": "markdown",
   "metadata": {},
   "source": [
    "### Day 1"
   ]
  },
  {
   "cell_type": "markdown",
   "metadata": {},
   "source": [
    "#### Part 1"
   ]
  },
  {
   "cell_type": "code",
   "execution_count": 4,
   "metadata": {},
   "outputs": [],
   "source": [
    "day_1_data = read_input(\"day_1/input.txt\").astype(int)"
   ]
  },
  {
   "cell_type": "code",
   "execution_count": 5,
   "metadata": {},
   "outputs": [],
   "source": [
    "def calc_positive_diff(arr):\n",
    "    \"\"\" Given an array, count how many 'next values' are higher then the previous value. \"\"\"\n",
    "    return sum((arr[1:] - arr[:-1]) > 0)\n",
    "\n",
    "\n",
    "def sum_by_window(arr, window_size=3):\n",
    "    \"\"\" Slides a window_size sized window over an array and calculates the sums of the windows. \"\"\"\n",
    "    return pd.Series(arr).rolling(window=window_size).sum().dropna().values"
   ]
  },
  {
   "cell_type": "code",
   "execution_count": 6,
   "metadata": {},
   "outputs": [
    {
     "data": {
      "text/plain": [
       "1692"
      ]
     },
     "execution_count": 6,
     "metadata": {},
     "output_type": "execute_result"
    }
   ],
   "source": [
    "calc_positive_diff(day_1_data)"
   ]
  },
  {
   "cell_type": "markdown",
   "metadata": {},
   "source": [
    "#### Part 2"
   ]
  },
  {
   "cell_type": "code",
   "execution_count": 7,
   "metadata": {},
   "outputs": [
    {
     "data": {
      "text/plain": [
       "1724"
      ]
     },
     "execution_count": 7,
     "metadata": {},
     "output_type": "execute_result"
    }
   ],
   "source": [
    "# Calculate diff using sum of sliding window\n",
    "calc_positive_diff(sum_by_window(day_1_data, window_size=3))"
   ]
  },
  {
   "cell_type": "markdown",
   "metadata": {},
   "source": [
    "### Day 2"
   ]
  },
  {
   "cell_type": "markdown",
   "metadata": {},
   "source": [
    "#### Part 1"
   ]
  },
  {
   "cell_type": "code",
   "execution_count": 8,
   "metadata": {},
   "outputs": [],
   "source": [
    "day_2_data = read_input(\"day_2/input.txt\")\n",
    "\n",
    "# Split lines into command and values and converts the values into integers\n",
    "day_2_data = [[l[0], int(l[1])] for l in [line.split() for line in day_2_data]]"
   ]
  },
  {
   "cell_type": "code",
   "execution_count": 9,
   "metadata": {},
   "outputs": [
    {
     "data": {
      "text/plain": [
       "1250395"
      ]
     },
     "execution_count": 9,
     "metadata": {},
     "output_type": "execute_result"
    }
   ],
   "source": [
    "x_pos = 0\n",
    "y_pos = 0\n",
    "\n",
    "for command, value in day_2_data:\n",
    "    if command.startswith('f'):\n",
    "        x_pos += value\n",
    "    elif command.startswith('d'):\n",
    "        y_pos += value\n",
    "    elif command.startswith('u'):\n",
    "        y_pos -= value\n",
    "        \n",
    "x_pos * y_pos"
   ]
  },
  {
   "cell_type": "markdown",
   "metadata": {},
   "source": [
    "#### Part 2"
   ]
  },
  {
   "cell_type": "code",
   "execution_count": 10,
   "metadata": {},
   "outputs": [
    {
     "data": {
      "text/plain": [
       "1451210346"
      ]
     },
     "execution_count": 10,
     "metadata": {},
     "output_type": "execute_result"
    }
   ],
   "source": [
    "x_pos = 0\n",
    "y_pos = 0\n",
    "aim = 0\n",
    "\n",
    "for command, value in day_2_data:\n",
    "    if command.startswith('f'):\n",
    "        x_pos += value\n",
    "        y_pos += value * aim\n",
    "    elif command.startswith('d'):\n",
    "        aim += value\n",
    "    elif command.startswith('u'):\n",
    "        aim -= value\n",
    "        \n",
    "x_pos * y_pos"
   ]
  },
  {
   "cell_type": "code",
   "execution_count": 11,
   "metadata": {},
   "outputs": [
    {
     "data": {
      "text/plain": [
       "1250395"
      ]
     },
     "execution_count": 11,
     "metadata": {},
     "output_type": "execute_result"
    }
   ],
   "source": [
    "# Numpy solution part 1\n",
    "day_2_data = read_input(\"day_2/input.txt\")\n",
    "commands, values = zip(*[line.split() for line in day_2_data])\n",
    "# Turn into arrays for slicing possibilities\n",
    "commands = np.array(commands)\n",
    "values = np.array(values).astype(int)\n",
    "\n",
    "x_pos = values[commands == 'forward'].sum()\n",
    "y_pos = values[commands == 'down'].sum() - values[commands == 'up'].sum()\n",
    "x_pos * y_pos"
   ]
  },
  {
   "cell_type": "markdown",
   "metadata": {},
   "source": [
    "### Day 3"
   ]
  },
  {
   "cell_type": "code",
   "execution_count": 24,
   "metadata": {},
   "outputs": [],
   "source": [
    "def load_day_3_data():\n",
    "    day_3_data = read_input(\"day_3/input.txt\")\n",
    "\n",
    "    # Turn into numpy array, every bit on its own\n",
    "    day_3_data = np.array([[int(bit) for bit in bytes_] for bytes_ in day_3_data])\n",
    "    \n",
    "    return day_3_data"
   ]
  },
  {
   "cell_type": "markdown",
   "metadata": {},
   "source": [
    "#### Part 1"
   ]
  },
  {
   "cell_type": "code",
   "execution_count": 25,
   "metadata": {},
   "outputs": [],
   "source": [
    "day_3_data = load_day_3_data()"
   ]
  },
  {
   "cell_type": "code",
   "execution_count": 26,
   "metadata": {},
   "outputs": [],
   "source": [
    "# Gamma is most commit bit per 'column'\n",
    "gamma = np.array([np.argmax(np.bincount(day_3_data[:, i])) for i in range(day_3_data.shape[1])])\n",
    "\n",
    "# Epsilon is least common bit per column, so the opposite of the gamma\n",
    "epsilon = 1 - np.array(gamma)"
   ]
  },
  {
   "cell_type": "code",
   "execution_count": 27,
   "metadata": {},
   "outputs": [],
   "source": [
    "def byte_array_to_int(arr):\n",
    "    return int(''.join(arr.astype(str)), base=2)"
   ]
  },
  {
   "cell_type": "code",
   "execution_count": 28,
   "metadata": {},
   "outputs": [],
   "source": [
    "# Transform binary to number\n",
    "gamma = byte_array_to_int(gamma)\n",
    "epsilon = byte_array_to_int(epsilon)"
   ]
  },
  {
   "cell_type": "code",
   "execution_count": 29,
   "metadata": {},
   "outputs": [
    {
     "data": {
      "text/plain": [
       "1458194"
      ]
     },
     "execution_count": 29,
     "metadata": {},
     "output_type": "execute_result"
    }
   ],
   "source": [
    "# Answer is gamma times epsilon\n",
    "gamma * epsilon"
   ]
  },
  {
   "cell_type": "markdown",
   "metadata": {},
   "source": [
    "#### Part 2"
   ]
  },
  {
   "cell_type": "code",
   "execution_count": 30,
   "metadata": {},
   "outputs": [],
   "source": [
    "day_3_data = load_day_3_data()"
   ]
  },
  {
   "cell_type": "code",
   "execution_count": 31,
   "metadata": {},
   "outputs": [],
   "source": [
    "def day_3_part_2(data, filter_by='max'):\n",
    "    assert filter_by in ['min', 'max']\n",
    "    \n",
    "    if filter_by == 'min':\n",
    "        default = 0\n",
    "        min_max_func = np.argmin\n",
    "    else:\n",
    "        default = 1\n",
    "        min_max_func = np.argmax\n",
    "    \n",
    "    for idx in range(data.shape[1]):\n",
    "        count = np.bincount(data[:, idx])\n",
    "        if len(set(count)) > 1 or len(set(data[:, idx])) == 1:\n",
    "            mcv = min_max_func(count)\n",
    "        # Value if column contains the same amount of both values\n",
    "        else:\n",
    "            mcv = default\n",
    "\n",
    "        # Remove rows where value of current index is not the most common value\n",
    "        data = data[data[:, idx] == mcv]\n",
    "        if data.shape[0] <= 1:\n",
    "            break\n",
    "            \n",
    "    return data"
   ]
  },
  {
   "cell_type": "code",
   "execution_count": 34,
   "metadata": {},
   "outputs": [],
   "source": [
    "oxygen_rating = byte_array_to_int(day_3_part_2(day_3_data, filter_by='max')[0])\n",
    "co2_rating = byte_array_to_int(day_3_part_2(day_3_data, filter_by='min')[0])"
   ]
  },
  {
   "cell_type": "code",
   "execution_count": 35,
   "metadata": {},
   "outputs": [
    {
     "data": {
      "text/plain": [
       "2829354"
      ]
     },
     "execution_count": 35,
     "metadata": {},
     "output_type": "execute_result"
    }
   ],
   "source": [
    "oxygen_rating * co2_rating"
   ]
  },
  {
   "cell_type": "markdown",
   "metadata": {},
   "source": [
    "### Day 4"
   ]
  },
  {
   "cell_type": "markdown",
   "metadata": {},
   "source": [
    "#### Part 1"
   ]
  },
  {
   "cell_type": "code",
   "execution_count": 141,
   "metadata": {},
   "outputs": [],
   "source": [
    "with open('day_4/input.txt', 'r') as f:\n",
    "    input_data = f.readlines()\n",
    "    # Split comma separated string of numbers to list and parse all\n",
    "    # string numbers to ints\n",
    "    numbers = [int(i) for i in input_data[0].strip().split(',')]\n",
    "    # The rest of the data are the bingo cards\n",
    "    bingo_cards = [line.strip().split() for line in input_data[2:] if line != '\\n']  # Remove empty lines\n",
    "    \n",
    "    # Using reshape get a 3d array of N 5 by 5 bingo cards\n",
    "    bingo_card_numbers = np.array(bingo_cards).reshape(-1, 5, 5).astype(int)"
   ]
  },
  {
   "cell_type": "code",
   "execution_count": 152,
   "metadata": {},
   "outputs": [],
   "source": [
    "class BingoCard:\n",
    "    \n",
    "    def __init__(self, values):\n",
    "        self.values = values  # 2D array\n",
    "        self.marked = np.zeros(shape=self.values.shape)  # Keep track of numbers that we marked\n",
    "        self.card_size = self.values.shape[0]  # Assumes square card\n",
    "        self.latest_value = None  # Needed for calculating the final answer\n",
    "        \n",
    "    def mark_number(self, value):\n",
    "        self.latest_value = value\n",
    "        # Mark a 1 on the indexes where we have a hit\n",
    "        if value in self.values:\n",
    "            self.marked[np.where(self.values==value)] = 1\n",
    "            \n",
    "    def check_for_bingo(self):\n",
    "        # If the sum of a row/column is the same as the size of the card we have a bingo\n",
    "        # Diagonals are not counted so this is easy\n",
    "        return self.card_size in self.marked.sum(axis=0) or self.card_size in self.marked.sum(axis=1)\n",
    "    \n",
    "    def calculate_answer(self):\n",
    "        # Sum of unmarked values * latest called value\n",
    "        return self.values[self.marked == 0].sum() * self.latest_value\n",
    "    \n",
    "    def calculate_n_moves_until_win(self, bingo_numbers):\n",
    "        \"\"\" Needed for part 2 \"\"\"\n",
    "        for n, number in enumerate(bingo_numbers):\n",
    "            self.mark_number(number)\n",
    "            if self.check_for_bingo():\n",
    "                return n, self.calculate_answer()"
   ]
  },
  {
   "cell_type": "code",
   "execution_count": 146,
   "metadata": {},
   "outputs": [
    {
     "data": {
      "text/plain": [
       "38913"
      ]
     },
     "execution_count": 146,
     "metadata": {},
     "output_type": "execute_result"
    }
   ],
   "source": [
    "bingo_cards = [BingoCard(card) for card in bingo_card_numbers]\n",
    "\n",
    "for number in numbers:\n",
    "    # Fill number on card\n",
    "    # Dont assign to variable as we're updating class instances\n",
    "    [card.mark_number(number) for card in bingo_cards]\n",
    "    \n",
    "    # Check for bingos\n",
    "    bingo_checks = [card.check_for_bingo() for card in bingo_cards]\n",
    "    \n",
    "    # If we have bingo there will be a true in this list, we check this with any\n",
    "    if any(bingo_checks):\n",
    "        # Winning card is the index of True\n",
    "        winning_card = bingo_cards[bingo_checks.index(True)]\n",
    "        break\n",
    "        \n",
    "winning_card.calculate_answer()"
   ]
  },
  {
   "cell_type": "markdown",
   "metadata": {},
   "source": [
    "#### Part 2"
   ]
  },
  {
   "cell_type": "code",
   "execution_count": 148,
   "metadata": {},
   "outputs": [],
   "source": [
    "bingo_cards = [BingoCard(card) for card in bingo_card_numbers]\n",
    "\n",
    "# Get list of tuples containing amount of moves until win, and the score of the card\n",
    "moves_til_win = [card.calculate_n_moves_until_win(numbers) for card in bingo_cards]"
   ]
  },
  {
   "cell_type": "code",
   "execution_count": 151,
   "metadata": {},
   "outputs": [
    {
     "data": {
      "text/plain": [
       "16836"
      ]
     },
     "execution_count": 151,
     "metadata": {},
     "output_type": "execute_result"
    }
   ],
   "source": [
    "# Sorting ascendingly on n moves and taking the 1nd index we have our answer\n",
    "sorted(moves_til_win, key=lambda tup: tup[0])[-1][1]"
   ]
  },
  {
   "cell_type": "markdown",
   "metadata": {},
   "source": [
    "### Day 5"
   ]
  },
  {
   "cell_type": "markdown",
   "metadata": {},
   "source": [
    "#### Part 1"
   ]
  },
  {
   "cell_type": "code",
   "execution_count": 74,
   "metadata": {},
   "outputs": [],
   "source": [
    "coordinates = read_input('day_5/input.txt')\n",
    "\n",
    "# coordinates = [\n",
    "#     \"0,9 -> 5,9\",\n",
    "#     \"8,0 -> 0,8\",\n",
    "#     \"9,4 -> 3,4\",\n",
    "#     \"2,2 -> 2,1\",\n",
    "#     \"7,0 -> 7,4\",\n",
    "#     \"6,4 -> 2,0\",\n",
    "#     \"0,9 -> 2,9\",\n",
    "#     \"3,4 -> 1,4\",\n",
    "#     \"0,0 -> 8,8\",\n",
    "#     \"5,5 -> 8,2\"\n",
    "# ]\n",
    "\n",
    "# Coordinates is array of [[x1, y1], [x2, y2]] pairs\n",
    "coordinates = np.array([[l.strip().split(',') for l in line.split('->')] for line in coordinates]).astype(int)\n",
    "\n",
    "# Only keep coordinates where x1 == x2 or y1 == y2\n",
    "hor_ver_coordinates = coordinates[(coordinates[:, 0, 0] == coordinates[:, 1, 0]) |\n",
    "                                  (coordinates[:, 0, 1] == coordinates[:, 1, 1])]"
   ]
  },
  {
   "cell_type": "code",
   "execution_count": 75,
   "metadata": {},
   "outputs": [],
   "source": [
    "def generate_empty_map(coordinates):\n",
    "    # Using coordinates calculate max map size\n",
    "    max_x = coordinates[:, :, 0].max()+1\n",
    "    max_y = coordinates[:, :, 1].max()+1\n",
    "    # Initialize empty map with all zeros\n",
    "    return np.zeros(shape=(max_y, max_x))"
   ]
  },
  {
   "cell_type": "code",
   "execution_count": 76,
   "metadata": {},
   "outputs": [],
   "source": [
    "map_ = generate_empty_map(hor_ver_coordinates)"
   ]
  },
  {
   "cell_type": "code",
   "execution_count": 77,
   "metadata": {},
   "outputs": [],
   "source": [
    "for (x1, y1), (x2, y2) in hor_ver_coordinates:\n",
    "    if x1 == x2 or y1 == y2:\n",
    "        # Draw lines in the map by adding one\n",
    "        # Using min and max we prevent slicing from high to low value, numpy\n",
    "        # returns an empty array when we do that\n",
    "        map_[min(y1, y2): max(y1, y2)+1, min(x1, x2): max(x1, x2)+1] += 1"
   ]
  },
  {
   "cell_type": "code",
   "execution_count": 78,
   "metadata": {},
   "outputs": [
    {
     "data": {
      "text/plain": [
       "5280"
      ]
     },
     "execution_count": 78,
     "metadata": {},
     "output_type": "execute_result"
    }
   ],
   "source": [
    "# By counting all places where the value is higher than one we get our answer\n",
    "len(np.where(map_ > 1)[0])"
   ]
  },
  {
   "cell_type": "markdown",
   "metadata": {},
   "source": [
    "#### Part 2"
   ]
  },
  {
   "cell_type": "code",
   "execution_count": 79,
   "metadata": {},
   "outputs": [],
   "source": [
    "map_ = generate_empty_map(coordinates)\n",
    "\n",
    "for (x1, y1), (x2, y2) in coordinates:\n",
    "    # Horizontal/vertical line\n",
    "    if x1 == x2 or y1 == y2:\n",
    "        # Draw lines in the map by adding one\n",
    "        # Using min and max we prevent slicing from high to low value, numpy\n",
    "        # returns an empty array when we do that\n",
    "        map_[min(y1, y2): max(y1, y2)+1, min(x1, x2): max(x1, x2)+1] += 1\n",
    "    # Diagonal line\n",
    "    else:\n",
    "        # Cannot use the min/max trick for both x and y coordinates as this will result\n",
    "        # in a flipped diagonal. We can simply fix this by using a negative stepsize, which\n",
    "        # will result in a reversed range, and therefore no flipped lines\n",
    "        x_stepsize = 1 if x2 > x1 else -1\n",
    "        y_stepsize = 1 if y2 > y1 else -1\n",
    "\n",
    "        # Because we also used to add 1 to the highest x and y, we need to substract\n",
    "        # one from the lowest x and y if we have a reversed range, otherwise the lines\n",
    "        # will be one too short\n",
    "        x2 = x2 - 1 if x2 < x1 else x2 + 1\n",
    "        y2 = y2 - 1 if y2 < y1 else y2 + 1\n",
    "        for x, y in zip(range(x1, x2, x_stepsize), range(y1, y2, y_stepsize)):\n",
    "            map_[y][x] += 1"
   ]
  },
  {
   "cell_type": "code",
   "execution_count": 80,
   "metadata": {},
   "outputs": [
    {
     "data": {
      "text/plain": [
       "16716"
      ]
     },
     "execution_count": 80,
     "metadata": {},
     "output_type": "execute_result"
    }
   ],
   "source": [
    "len(np.where(map_ > 1)[0])"
   ]
  }
 ],
 "metadata": {
  "kernelspec": {
   "display_name": "Python 3",
   "language": "python",
   "name": "python3"
  },
  "language_info": {
   "codemirror_mode": {
    "name": "ipython",
    "version": 3
   },
   "file_extension": ".py",
   "mimetype": "text/x-python",
   "name": "python",
   "nbconvert_exporter": "python",
   "pygments_lexer": "ipython3",
   "version": "3.6.5"
  }
 },
 "nbformat": 4,
 "nbformat_minor": 5
}
